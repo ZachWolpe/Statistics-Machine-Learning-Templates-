{
 "cells": [
  {
   "cell_type": "markdown",
   "metadata": {},
   "source": [
    "# Urn Model\n",
    "\n",
    "```\n",
    "Author:\n",
    "Zach Wolpe\n",
    "zachcolinwolpe@gmail.com\n",
    "www.zachwolpe.com\n",
    "```\n",
    "\n",
    "The urn model allows us to calculate the probability of an event. We can calculate the probability of an event haddening by chance, and make inference accordingly.\n",
    "\n",
    "\n",
    "## Example\n",
    "To illustrate the urn model, lets work through an example.\n",
    "\n",
    "Suppose a medical study is conducted to measure the effects of a new drug on blood pressure. Participants were split into two groups: one of which received the drug, the other received an identical in appearance plecebo.\n",
    "\n",
    "The participants blood preasure was recorded at the beginning of the experiment, as well as at the end of the experiment.\n",
    "\n",
    "Now we can compare the decrease in blood preasure of the two groups to assess the effects of the drug.\n",
    "\n",
    "\n",
    "## Results\n",
    "The decrease in blood pressure of the two groups was recorded:"
   ]
  },
  {
   "cell_type": "code",
   "execution_count": 2,
   "metadata": {},
   "outputs": [],
   "source": [
    "# imports\n",
    "import numpy as np\n",
    "import pandas as pd\n",
    "import matplotlib.pyplot as plt\n",
    "\n",
    "%matplotlib inline\n",
    "plt.style.use('seaborn-darkgrid')"
   ]
  },
  {
   "cell_type": "code",
   "execution_count": 5,
   "metadata": {},
   "outputs": [],
   "source": [
    "treatment = np.array([7, -4, 18, 17, -3, -5, 1, 10, 11, -2])\n",
    "placebo = np.array([-1, 12, -1, -3, 3, -5, 5, 2, -11, -1, -3])"
   ]
  },
  {
   "cell_type": "markdown",
   "metadata": {},
   "source": [
    "# EDA (Exploratory Data Analysis)\n",
    "\n",
    "What does visualising the results tell us?"
   ]
  },
  {
   "cell_type": "code",
   "execution_count": 22,
   "metadata": {},
   "outputs": [
    {
     "name": "stdout",
     "output_type": "stream",
     "text": [
      "\n",
      "Compare the mean decrease in each group: \n",
      "\n",
      "treatment:  5.0\n",
      "placebo:  -0.2727\n",
      "\n"
     ]
    },
    {
     "data": {
      "image/png": "[encoded data removed]",
      "text/plain": [
       "<Figure size 504x144 with 1 Axes>"
      ]
     },
     "metadata": {},
     "output_type": "display_data"
    }
   ],
   "source": [
    "print('')\n",
    "print('Compare the mean decrease in each group: ')\n",
    "print('')\n",
    "print('treatment: ', treatment.mean())\n",
    "print('placebo: ', round(placebo.mean(), 4))\n",
    "print('')\n",
    "\n",
    "plt.figure(figsize=(7,2))\n",
    "plt.scatter(treatment, y=np.zeros(len(treatment)))\n",
    "plt.scatter(placebo, y=np.ones(len(placebo)))\n",
    "plt.yticks(ticks=[0,1], labels=['Treatment', 'Placebo'])\n",
    "plt.show()"
   ]
  },
  {
   "cell_type": "markdown",
   "metadata": {},
   "source": [
    "The distributions have roughly the same spread, the mean for the treatment group is 5 (the average decrease in blood pressure is 5 degrees for the treatment group) and the mean for the placebo group is 0. \n",
    "\n",
    "## Urn Model\n",
    "\n",
    "The mean difference seams to imply the treatment worked, however how can we be certain? Could this have happened at random? \n",
    "\n",
    "The urn model calculates the probabilty of the outcome we observe - to test how likely it is that this could have happened by chance, thus indirectly testing if the treatment worked.\n",
    "\n",
    "The following steps are implemented:\n",
    "    - make a list of all results (place all outcomes in the urn)\n",
    "    - draw 10 samples at random from the urn\n",
    "    - record the average decrease in blood pressure (our test statistic)\n",
    "    - repeat many times, graph the results\n",
    "    - compute the probability of achieving the result we observed (blood pressure decrease > 5) by chance\n",
    "    - infer the effectiveness of the treatment"
   ]
  },
  {
   "cell_type": "code",
   "execution_count": 53,
   "metadata": {},
   "outputs": [],
   "source": [
    "# create the urn\n",
    "urn = np.concatenate([treatment, placebo])\n",
    "\n",
    "# sample and calculate mean\n",
    "samples = []\n",
    "for i in range(10000):\n",
    "    samples.append(np.random.choice(urn, size=10, replace=False).mean())"
   ]
  },
  {
   "cell_type": "markdown",
   "metadata": {},
   "source": [
    "## Inference\n",
    "\n",
    "Great! we've got our simulated data, now lets inspect"
   ]
  },
  {
   "cell_type": "code",
   "execution_count": 77,
   "metadata": {},
   "outputs": [
    {
     "data": {
      "image/png": "[encoded data removed]",
      "text/plain": [
       "<Figure size 576x576 with 1 Axes>"
      ]
     },
     "metadata": {},
     "output_type": "display_data"
    }
   ],
   "source": [
    "plt.figure(figsize=(8,8))\n",
    "plt.hist(samples, bins=30, alpha=0.8)\n",
    "plt.axvline(np.mean(treatment), color='orange')\n",
    "plt.show()"
   ]
  },
  {
   "cell_type": "markdown",
   "metadata": {},
   "source": [
    "It seams the true results is an outlier in our density approximation. Now lets test our research question:"
   ]
  },
  {
   "cell_type": "code",
   "execution_count": 68,
   "metadata": {},
   "outputs": [
    {
     "name": "stdout",
     "output_type": "stream",
     "text": [
      "\n",
      "The probability of a randomly assigned group having an average decrease of blood pressure of 5: \n",
      "\n",
      "0.0655\n"
     ]
    }
   ],
   "source": [
    "prob = np.mean(samples>=treatment.mean())\n",
    "\n",
    "print('')\n",
    "print('The probability of a randomly assigned group having an average decrease of blood pressure of 5: ')\n",
    "print('')\n",
    "print(prob)"
   ]
  },
  {
   "cell_type": "markdown",
   "metadata": {},
   "source": [
    "## Conclusion\n",
    "\n",
    "It is highly unlikely the a random result produces an average decrease in blood pressure as substantial as 5 degrees, as such we can conclude the treatment was effective.\n",
    "\n",
    " \n",
    "## Statistics\n",
    "The average of the urn = Expected value of 1 draw.\n",
    "\n",
    "Standard deviation of urn = Standard deviation for one draw.\n",
    "\n",
    "An empirical confidence interval can be approximated using the results.\n",
    "\n",
    "Other test-statistics can be assessed: total count, proportion, etc.\n",
    "\n",
    "The urn model is a simple chance process."
   ]
  }
 ],
 "metadata": {
  "kernelspec": {
   "display_name": "Python 3",
   "language": "python",
   "name": "python3"
  },
  "language_info": {
   "codemirror_mode": {
    "name": "ipython",
    "version": 3
   },
   "file_extension": ".py",
   "mimetype": "text/x-python",
   "name": "python",
   "nbconvert_exporter": "python",
   "pygments_lexer": "ipython3",
   "version": "3.7.3"
  }
 },
 "nbformat": 4,
 "nbformat_minor": 2
}
